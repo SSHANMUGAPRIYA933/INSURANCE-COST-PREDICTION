{
 "cells": [
  {
   "cell_type": "markdown",
   "id": "e96da123",
   "metadata": {},
   "source": [
    "# PROJECT NAME :- INSURANCE COST PREDICTION"
   ]
  },
  {
   "cell_type": "markdown",
   "id": "50de2be3",
   "metadata": {},
   "source": [
    "\n",
    "# OBJECTIVE\n",
    "\n",
    "* We have the insurance dataset.With the help of the dataset we have to find out the predicted value of the cost or the charges with the help of machine learning.We will use several machine learning technique to find out the predicted value and will conclude which one of the machine learning algorithm fits the best in this.\n",
    "\n",
    "# ALGORITHMS USED IN THIS PROJECT FOR PREDICTION\n",
    "\n",
    "* Linear Regression\n",
    "\n",
    "* Random Forest\n",
    "\n",
    "* Gradient Boosting\n",
    "\n",
    "* K Nearest Neighbour\n",
    "\n",
    "* Ada Boost Regressor\n"
   ]
  },
  {
   "cell_type": "markdown",
   "id": "933e75cd",
   "metadata": {},
   "source": [
    "# Exploratory Data Analysis"
   ]
  },
  {
   "cell_type": "code",
   "execution_count": 91,
   "id": "6c08e893",
   "metadata": {},
   "outputs": [],
   "source": [
    "# importing liberaries\n",
    "import pandas as pd\n",
    "import numpy as np\n",
    "import matplotlib.pyplot as plt\n",
    "import seaborn as sns"
   ]
  },
  {
   "cell_type": "code",
   "execution_count": 92,
   "id": "7347e8c1",
   "metadata": {},
   "outputs": [],
   "source": [
    "# importing the dataset\n",
    "data=pd.read_csv('insurance.csv')"
   ]
  },
  {
   "cell_type": "code",
   "execution_count": 93,
   "id": "931386d2",
   "metadata": {},
   "outputs": [
    {
     "data": {
      "text/html": [
       "<div>\n",
       "<style scoped>\n",
       "    .dataframe tbody tr th:only-of-type {\n",
       "        vertical-align: middle;\n",
       "    }\n",
       "\n",
       "    .dataframe tbody tr th {\n",
       "        vertical-align: top;\n",
       "    }\n",
       "\n",
       "    .dataframe thead th {\n",
       "        text-align: right;\n",
       "    }\n",
       "</style>\n",
       "<table border=\"1\" class=\"dataframe\">\n",
       "  <thead>\n",
       "    <tr style=\"text-align: right;\">\n",
       "      <th></th>\n",
       "      <th>age</th>\n",
       "      <th>sex</th>\n",
       "      <th>bmi</th>\n",
       "      <th>children</th>\n",
       "      <th>smoker</th>\n",
       "      <th>region</th>\n",
       "      <th>charges</th>\n",
       "    </tr>\n",
       "  </thead>\n",
       "  <tbody>\n",
       "    <tr>\n",
       "      <th>0</th>\n",
       "      <td>19</td>\n",
       "      <td>female</td>\n",
       "      <td>27.900</td>\n",
       "      <td>0</td>\n",
       "      <td>yes</td>\n",
       "      <td>southwest</td>\n",
       "      <td>16884.92400</td>\n",
       "    </tr>\n",
       "    <tr>\n",
       "      <th>1</th>\n",
       "      <td>18</td>\n",
       "      <td>male</td>\n",
       "      <td>33.770</td>\n",
       "      <td>1</td>\n",
       "      <td>no</td>\n",
       "      <td>southeast</td>\n",
       "      <td>1725.55230</td>\n",
       "    </tr>\n",
       "    <tr>\n",
       "      <th>2</th>\n",
       "      <td>28</td>\n",
       "      <td>male</td>\n",
       "      <td>33.000</td>\n",
       "      <td>3</td>\n",
       "      <td>no</td>\n",
       "      <td>southeast</td>\n",
       "      <td>4449.46200</td>\n",
       "    </tr>\n",
       "    <tr>\n",
       "      <th>3</th>\n",
       "      <td>33</td>\n",
       "      <td>male</td>\n",
       "      <td>22.705</td>\n",
       "      <td>0</td>\n",
       "      <td>no</td>\n",
       "      <td>northwest</td>\n",
       "      <td>21984.47061</td>\n",
       "    </tr>\n",
       "    <tr>\n",
       "      <th>4</th>\n",
       "      <td>32</td>\n",
       "      <td>male</td>\n",
       "      <td>28.880</td>\n",
       "      <td>0</td>\n",
       "      <td>no</td>\n",
       "      <td>northwest</td>\n",
       "      <td>3866.85520</td>\n",
       "    </tr>\n",
       "  </tbody>\n",
       "</table>\n",
       "</div>"
      ],
      "text/plain": [
       "   age     sex     bmi  children smoker     region      charges\n",
       "0   19  female  27.900         0    yes  southwest  16884.92400\n",
       "1   18    male  33.770         1     no  southeast   1725.55230\n",
       "2   28    male  33.000         3     no  southeast   4449.46200\n",
       "3   33    male  22.705         0     no  northwest  21984.47061\n",
       "4   32    male  28.880         0     no  northwest   3866.85520"
      ]
     },
     "execution_count": 93,
     "metadata": {},
     "output_type": "execute_result"
    }
   ],
   "source": [
    "# checking the top five rows of the dataset\n",
    "data.head()"
   ]
  },
  {
   "cell_type": "code",
   "execution_count": 94,
   "id": "dec36d83",
   "metadata": {},
   "outputs": [
    {
     "data": {
      "text/plain": [
       "(1338, 7)"
      ]
     },
     "execution_count": 94,
     "metadata": {},
     "output_type": "execute_result"
    }
   ],
   "source": [
    "# checking the number of rows and columns\n",
    "data.shape"
   ]
  },
  {
   "cell_type": "markdown",
   "id": "033b4cc9",
   "metadata": {},
   "source": [
    "- So here the output 1338 represents the number of rows and output 7 represents the number of columns."
   ]
  },
  {
   "cell_type": "code",
   "execution_count": 95,
   "id": "77eb9d87",
   "metadata": {},
   "outputs": [
    {
     "name": "stdout",
     "output_type": "stream",
     "text": [
      "<class 'pandas.core.frame.DataFrame'>\n",
      "RangeIndex: 1338 entries, 0 to 1337\n",
      "Data columns (total 7 columns):\n",
      " #   Column    Non-Null Count  Dtype  \n",
      "---  ------    --------------  -----  \n",
      " 0   age       1338 non-null   int64  \n",
      " 1   sex       1338 non-null   object \n",
      " 2   bmi       1338 non-null   float64\n",
      " 3   children  1338 non-null   int64  \n",
      " 4   smoker    1338 non-null   object \n",
      " 5   region    1338 non-null   object \n",
      " 6   charges   1338 non-null   float64\n",
      "dtypes: float64(2), int64(2), object(3)\n",
      "memory usage: 73.3+ KB\n"
     ]
    }
   ],
   "source": [
    "# getting the information about the dataset\n",
    "data.info()"
   ]
  },
  {
   "cell_type": "markdown",
   "id": "528d89de",
   "metadata": {},
   "source": [
    "# DATA SET DESCRIPTION"
   ]
  },
  {
   "cell_type": "markdown",
   "id": "dceee6ab",
   "metadata": {},
   "source": [
    "__COLUMNS DETAILS__\n",
    "- age     : age of primary beneficiary \n",
    "- sex     : insurance contractor gender, female, male \n",
    "- bmi     : Body mass index, providing an understanding of body, weights that are relatively high or low relative to height,\n",
    "            objective index of body weight (kg / m ^ 2) using the ratio of height to weight, ideally 18.5 to 24.9 \n",
    "- children: Number of children covered by health insurance / Number of dependents\n",
    "- smoker  : Smoking\n",
    "- region  : the beneficiary's residential area in the US, northeast, southeast, southwest, northwest.\n",
    "- charges : Individual medical costs billed by health insurance\n",
    "\n",
    "__CATEGORICAL COLUMNS__ \n",
    "\n",
    "- sex\n",
    "\n",
    "- smoker\n",
    "\n",
    "- region\n",
    "\n",
    "\n",
    "__NUMERICAL COLUMNS__\n",
    "\n",
    "- age\n",
    "\n",
    "- bmi\n",
    "\n",
    "- children\n",
    "\n",
    "- charges\n",
    "    \n",
    "__TARGET COLUMN__ = \"__charges__\"    "
   ]
  },
  {
   "cell_type": "markdown",
   "id": "104dd2e2",
   "metadata": {},
   "source": [
    "# DATA CLEANING"
   ]
  },
  {
   "cell_type": "code",
   "execution_count": 96,
   "id": "20fe4450",
   "metadata": {},
   "outputs": [
    {
     "data": {
      "text/plain": [
       "1"
      ]
     },
     "execution_count": 96,
     "metadata": {},
     "output_type": "execute_result"
    }
   ],
   "source": [
    "# checking the duplicate columns\n",
    "data.duplicated().sum()"
   ]
  },
  {
   "cell_type": "markdown",
   "id": "79aaf948",
   "metadata": {},
   "source": [
    "Here value returned as 1 means we have one duplicate value."
   ]
  },
  {
   "cell_type": "code",
   "execution_count": 97,
   "id": "81a381fa",
   "metadata": {},
   "outputs": [
    {
     "data": {
      "text/html": [
       "<div>\n",
       "<style scoped>\n",
       "    .dataframe tbody tr th:only-of-type {\n",
       "        vertical-align: middle;\n",
       "    }\n",
       "\n",
       "    .dataframe tbody tr th {\n",
       "        vertical-align: top;\n",
       "    }\n",
       "\n",
       "    .dataframe thead th {\n",
       "        text-align: right;\n",
       "    }\n",
       "</style>\n",
       "<table border=\"1\" class=\"dataframe\">\n",
       "  <thead>\n",
       "    <tr style=\"text-align: right;\">\n",
       "      <th></th>\n",
       "      <th>age</th>\n",
       "      <th>sex</th>\n",
       "      <th>bmi</th>\n",
       "      <th>children</th>\n",
       "      <th>smoker</th>\n",
       "      <th>region</th>\n",
       "      <th>charges</th>\n",
       "    </tr>\n",
       "  </thead>\n",
       "  <tbody>\n",
       "    <tr>\n",
       "      <th>581</th>\n",
       "      <td>19</td>\n",
       "      <td>male</td>\n",
       "      <td>30.59</td>\n",
       "      <td>0</td>\n",
       "      <td>no</td>\n",
       "      <td>northwest</td>\n",
       "      <td>1639.5631</td>\n",
       "    </tr>\n",
       "  </tbody>\n",
       "</table>\n",
       "</div>"
      ],
      "text/plain": [
       "     age   sex    bmi  children smoker     region    charges\n",
       "581   19  male  30.59         0     no  northwest  1639.5631"
      ]
     },
     "execution_count": 97,
     "metadata": {},
     "output_type": "execute_result"
    }
   ],
   "source": [
    "# Checking for the row which is having the duplicate row\n",
    "duplicate=data[data.duplicated(keep='first')]\n",
    "duplicate"
   ]
  },
  {
   "cell_type": "code",
   "execution_count": 98,
   "id": "bbe121bb",
   "metadata": {},
   "outputs": [
    {
     "data": {
      "text/html": [
       "<div>\n",
       "<style scoped>\n",
       "    .dataframe tbody tr th:only-of-type {\n",
       "        vertical-align: middle;\n",
       "    }\n",
       "\n",
       "    .dataframe tbody tr th {\n",
       "        vertical-align: top;\n",
       "    }\n",
       "\n",
       "    .dataframe thead th {\n",
       "        text-align: right;\n",
       "    }\n",
       "</style>\n",
       "<table border=\"1\" class=\"dataframe\">\n",
       "  <thead>\n",
       "    <tr style=\"text-align: right;\">\n",
       "      <th></th>\n",
       "      <th>age</th>\n",
       "      <th>sex</th>\n",
       "      <th>bmi</th>\n",
       "      <th>children</th>\n",
       "      <th>smoker</th>\n",
       "      <th>region</th>\n",
       "      <th>charges</th>\n",
       "    </tr>\n",
       "  </thead>\n",
       "  <tbody>\n",
       "    <tr>\n",
       "      <th>195</th>\n",
       "      <td>19</td>\n",
       "      <td>male</td>\n",
       "      <td>30.59</td>\n",
       "      <td>0</td>\n",
       "      <td>no</td>\n",
       "      <td>northwest</td>\n",
       "      <td>1639.5631</td>\n",
       "    </tr>\n",
       "  </tbody>\n",
       "</table>\n",
       "</div>"
      ],
      "text/plain": [
       "     age   sex    bmi  children smoker     region    charges\n",
       "195   19  male  30.59         0     no  northwest  1639.5631"
      ]
     },
     "execution_count": 98,
     "metadata": {},
     "output_type": "execute_result"
    }
   ],
   "source": [
    "duplicate=data[data.duplicated(keep='last')]\n",
    "duplicate"
   ]
  },
  {
   "cell_type": "markdown",
   "id": "0d0c5c79",
   "metadata": {},
   "source": [
    "So here row __581__ and row __195__ have duplicate values."
   ]
  },
  {
   "cell_type": "code",
   "execution_count": 99,
   "id": "37f3045d",
   "metadata": {},
   "outputs": [],
   "source": [
    "# Dropping the duplicate row\n",
    "data=data.drop_duplicates()"
   ]
  },
  {
   "cell_type": "code",
   "execution_count": 100,
   "id": "b76add0b",
   "metadata": {},
   "outputs": [
    {
     "data": {
      "text/plain": [
       "(1337, 7)"
      ]
     },
     "execution_count": 100,
     "metadata": {},
     "output_type": "execute_result"
    }
   ],
   "source": [
    "data.shape"
   ]
  },
  {
   "cell_type": "markdown",
   "id": "979d200e",
   "metadata": {},
   "source": [
    "As you can see number of row changed to 1337 from 1338 which means we have successfully deleted the duplicate rows."
   ]
  },
  {
   "cell_type": "code",
   "execution_count": 101,
   "id": "3573205e",
   "metadata": {},
   "outputs": [
    {
     "data": {
      "text/plain": [
       "age         0\n",
       "sex         0\n",
       "bmi         0\n",
       "children    0\n",
       "smoker      0\n",
       "region      0\n",
       "charges     0\n",
       "dtype: int64"
      ]
     },
     "execution_count": 101,
     "metadata": {},
     "output_type": "execute_result"
    }
   ],
   "source": [
    "# checking null values\n",
    "data.isnull().sum()"
   ]
  },
  {
   "cell_type": "markdown",
   "id": "12759fd2",
   "metadata": {},
   "source": [
    "As we can see the output of every column showing 0 which means we have __no__ null values."
   ]
  },
  {
   "cell_type": "code",
   "execution_count": 102,
   "id": "262c5519",
   "metadata": {},
   "outputs": [
    {
     "data": {
      "text/html": [
       "<div>\n",
       "<style scoped>\n",
       "    .dataframe tbody tr th:only-of-type {\n",
       "        vertical-align: middle;\n",
       "    }\n",
       "\n",
       "    .dataframe tbody tr th {\n",
       "        vertical-align: top;\n",
       "    }\n",
       "\n",
       "    .dataframe thead th {\n",
       "        text-align: right;\n",
       "    }\n",
       "</style>\n",
       "<table border=\"1\" class=\"dataframe\">\n",
       "  <thead>\n",
       "    <tr style=\"text-align: right;\">\n",
       "      <th></th>\n",
       "      <th>age</th>\n",
       "      <th>bmi</th>\n",
       "      <th>children</th>\n",
       "      <th>charges</th>\n",
       "    </tr>\n",
       "  </thead>\n",
       "  <tbody>\n",
       "    <tr>\n",
       "      <th>count</th>\n",
       "      <td>1337.000000</td>\n",
       "      <td>1337.000000</td>\n",
       "      <td>1337.000000</td>\n",
       "      <td>1337.000000</td>\n",
       "    </tr>\n",
       "    <tr>\n",
       "      <th>mean</th>\n",
       "      <td>39.222139</td>\n",
       "      <td>30.663452</td>\n",
       "      <td>1.095737</td>\n",
       "      <td>13279.121487</td>\n",
       "    </tr>\n",
       "    <tr>\n",
       "      <th>std</th>\n",
       "      <td>14.044333</td>\n",
       "      <td>6.100468</td>\n",
       "      <td>1.205571</td>\n",
       "      <td>12110.359656</td>\n",
       "    </tr>\n",
       "    <tr>\n",
       "      <th>min</th>\n",
       "      <td>18.000000</td>\n",
       "      <td>15.960000</td>\n",
       "      <td>0.000000</td>\n",
       "      <td>1121.873900</td>\n",
       "    </tr>\n",
       "    <tr>\n",
       "      <th>25%</th>\n",
       "      <td>27.000000</td>\n",
       "      <td>26.290000</td>\n",
       "      <td>0.000000</td>\n",
       "      <td>4746.344000</td>\n",
       "    </tr>\n",
       "    <tr>\n",
       "      <th>50%</th>\n",
       "      <td>39.000000</td>\n",
       "      <td>30.400000</td>\n",
       "      <td>1.000000</td>\n",
       "      <td>9386.161300</td>\n",
       "    </tr>\n",
       "    <tr>\n",
       "      <th>75%</th>\n",
       "      <td>51.000000</td>\n",
       "      <td>34.700000</td>\n",
       "      <td>2.000000</td>\n",
       "      <td>16657.717450</td>\n",
       "    </tr>\n",
       "    <tr>\n",
       "      <th>max</th>\n",
       "      <td>64.000000</td>\n",
       "      <td>53.130000</td>\n",
       "      <td>5.000000</td>\n",
       "      <td>63770.428010</td>\n",
       "    </tr>\n",
       "  </tbody>\n",
       "</table>\n",
       "</div>"
      ],
      "text/plain": [
       "               age          bmi     children       charges\n",
       "count  1337.000000  1337.000000  1337.000000   1337.000000\n",
       "mean     39.222139    30.663452     1.095737  13279.121487\n",
       "std      14.044333     6.100468     1.205571  12110.359656\n",
       "min      18.000000    15.960000     0.000000   1121.873900\n",
       "25%      27.000000    26.290000     0.000000   4746.344000\n",
       "50%      39.000000    30.400000     1.000000   9386.161300\n",
       "75%      51.000000    34.700000     2.000000  16657.717450\n",
       "max      64.000000    53.130000     5.000000  63770.428010"
      ]
     },
     "execution_count": 102,
     "metadata": {},
     "output_type": "execute_result"
    }
   ],
   "source": [
    "# Statistical measure of the dataset\n",
    "data.describe()"
   ]
  },
  {
   "cell_type": "markdown",
   "id": "af1ec78f",
   "metadata": {},
   "source": [
    "It shows the count, mean, standard deviation,minimum value,maximum value and the 3 percentages of the numerical columns i.e 25%,50%,75%. The percentages here means the percentage which are less than the value shown in column. For example, For 25% of column \"age\" means that the 25% values are lesser than 27.000000."
   ]
  },
  {
   "cell_type": "markdown",
   "id": "6d5f354c",
   "metadata": {},
   "source": [
    "# Checking The Outliers"
   ]
  },
  {
   "cell_type": "code",
   "execution_count": 103,
   "id": "0674e3eb",
   "metadata": {},
   "outputs": [
    {
     "name": "stderr",
     "output_type": "stream",
     "text": [
      "C:\\Users\\Priya\\anaconda3\\lib\\site-packages\\seaborn\\_decorators.py:36: FutureWarning: Pass the following variable as a keyword arg: x. From version 0.12, the only valid positional argument will be `data`, and passing other arguments without an explicit keyword will result in an error or misinterpretation.\n",
      "  warnings.warn(\n"
     ]
    },
    {
     "data": {
      "text/plain": [
       "<AxesSubplot:xlabel='age'>"
      ]
     },
     "execution_count": 103,
     "metadata": {},
     "output_type": "execute_result"
    },
    {
     "data": {
      "image/png": "[encoded data removed]",
      "text/plain": [
       "<Figure size 432x288 with 1 Axes>"
      ]
     },
     "metadata": {},
     "output_type": "display_data"
    }
   ],
   "source": [
    "# checking outliers for the age column\n",
    "sns.boxplot(data.age)"
   ]
  },
  {
   "cell_type": "markdown",
   "id": "b3986f59",
   "metadata": {},
   "source": [
    "__Insights__ :- There are no outliers."
   ]
  },
  {
   "cell_type": "code",
   "execution_count": 104,
   "id": "02572400",
   "metadata": {},
   "outputs": [
    {
     "name": "stderr",
     "output_type": "stream",
     "text": [
      "C:\\Users\\Priya\\anaconda3\\lib\\site-packages\\seaborn\\_decorators.py:36: FutureWarning: Pass the following variable as a keyword arg: x. From version 0.12, the only valid positional argument will be `data`, and passing other arguments without an explicit keyword will result in an error or misinterpretation.\n",
      "  warnings.warn(\n"
     ]
    },
    {
     "data": {
      "text/plain": [
       "<AxesSubplot:xlabel='bmi'>"
      ]
     },
     "execution_count": 104,
     "metadata": {},
     "output_type": "execute_result"
    },
    {
     "data": {
      "image/png": "[encoded data removed]",
      "text/plain": [
       "<Figure size 432x288 with 1 Axes>"
      ]
     },
     "metadata": {},
     "output_type": "display_data"
    }
   ],
   "source": [
    "#checking outliers for bmi column\n",
    "sns.boxplot(data.bmi)"
   ]
  },
  {
   "cell_type": "markdown",
   "id": "dafabfe8",
   "metadata": {},
   "source": [
    "There are few outliers present here."
   ]
  },
  {
   "cell_type": "code",
   "execution_count": 105,
   "id": "8e10a22e",
   "metadata": {},
   "outputs": [
    {
     "data": {
      "text/plain": [
       "count    1337.000000\n",
       "mean       30.663452\n",
       "std         6.100468\n",
       "min        15.960000\n",
       "25%        26.290000\n",
       "50%        30.400000\n",
       "75%        34.700000\n",
       "max        53.130000\n",
       "Name: bmi, dtype: float64"
      ]
     },
     "execution_count": 105,
     "metadata": {},
     "output_type": "execute_result"
    }
   ],
   "source": [
    "data.describe().bmi"
   ]
  },
  {
   "cell_type": "code",
   "execution_count": 106,
   "id": "10452c73",
   "metadata": {},
   "outputs": [
    {
     "name": "stderr",
     "output_type": "stream",
     "text": [
      "C:\\Users\\Priya\\anaconda3\\lib\\site-packages\\seaborn\\_decorators.py:36: FutureWarning: Pass the following variable as a keyword arg: x. From version 0.12, the only valid positional argument will be `data`, and passing other arguments without an explicit keyword will result in an error or misinterpretation.\n",
      "  warnings.warn(\n"
     ]
    },
    {
     "data": {
      "text/plain": [
       "<AxesSubplot:xlabel='charges'>"
      ]
     },
     "execution_count": 106,
     "metadata": {},
     "output_type": "execute_result"
    },
    {
     "data": {
      "image/png": "[encoded data removed]",
      "text/plain": [
       "<Figure size 432x288 with 1 Axes>"
      ]
     },
     "metadata": {},
     "output_type": "display_data"
    }
   ],
   "source": [
    "# checking outliers for charges column\n",
    "sns.boxplot(data.charges)"
   ]
  },
  {
   "cell_type": "code",
   "execution_count": 107,
   "id": "d7d8a7ff",
   "metadata": {},
   "outputs": [
    {
     "data": {
      "text/plain": [
       "count     1337.000000\n",
       "mean     13279.121487\n",
       "std      12110.359656\n",
       "min       1121.873900\n",
       "25%       4746.344000\n",
       "50%       9386.161300\n",
       "75%      16657.717450\n",
       "max      63770.428010\n",
       "Name: charges, dtype: float64"
      ]
     },
     "execution_count": 107,
     "metadata": {},
     "output_type": "execute_result"
    }
   ],
   "source": [
    "data.describe().charges"
   ]
  },
  {
   "cell_type": "markdown",
   "id": "26b11779",
   "metadata": {},
   "source": [
    "# Vizualization of the columns"
   ]
  },
  {
   "cell_type": "code",
   "execution_count": 108,
   "id": "367a26cc",
   "metadata": {},
   "outputs": [
    {
     "name": "stderr",
     "output_type": "stream",
     "text": [
      "C:\\Users\\Priya\\anaconda3\\lib\\site-packages\\seaborn\\distributions.py:2557: FutureWarning: `distplot` is a deprecated function and will be removed in a future version. Please adapt your code to use either `displot` (a figure-level function with similar flexibility) or `histplot` (an axes-level function for histograms).\n",
      "  warnings.warn(msg, FutureWarning)\n"
     ]
    },
    {
     "data": {
      "image/png": "[encoded data removed]",
      "text/plain": [
       "<Figure size 432x288 with 1 Axes>"
      ]
     },
     "metadata": {},
     "output_type": "display_data"
    }
   ],
   "source": [
    "# Distribution of age column\n",
    "sns.set()\n",
    "sns.distplot(data.age)\n",
    "plt.show()"
   ]
  },
  {
   "cell_type": "markdown",
   "id": "4a2d16f0",
   "metadata": {},
   "source": [
    "Data of age column is distributed nornally."
   ]
  },
  {
   "cell_type": "code",
   "execution_count": 109,
   "id": "b8004906",
   "metadata": {},
   "outputs": [
    {
     "name": "stderr",
     "output_type": "stream",
     "text": [
      "C:\\Users\\Priya\\anaconda3\\lib\\site-packages\\seaborn\\_decorators.py:36: FutureWarning: Pass the following variable as a keyword arg: x. From version 0.12, the only valid positional argument will be `data`, and passing other arguments without an explicit keyword will result in an error or misinterpretation.\n",
      "  warnings.warn(\n"
     ]
    },
    {
     "data": {
      "image/png": "[encoded data removed]",
      "text/plain": [
       "<Figure size 1080x216 with 1 Axes>"
      ]
     },
     "metadata": {},
     "output_type": "display_data"
    }
   ],
   "source": [
    "# Vizualizing age column\n",
    "plt.figure(figsize=(15,3))\n",
    "sns.countplot(data.age)\n",
    "plt.show()"
   ]
  },
  {
   "cell_type": "code",
   "execution_count": 110,
   "id": "575a53a7",
   "metadata": {},
   "outputs": [
    {
     "data": {
      "image/png": "[encoded data removed]",
      "text/plain": [
       "<Figure size 360x360 with 1 Axes>"
      ]
     },
     "metadata": {},
     "output_type": "display_data"
    }
   ],
   "source": [
    "# Vizualizing sex column\n",
    "plt.figure(figsize=(5,5))\n",
    "plt.title(\"Gender Representation\")\n",
    "sns.histplot(data.sex)\n",
    "plt.show()"
   ]
  },
  {
   "cell_type": "code",
   "execution_count": 111,
   "id": "1ed366bf",
   "metadata": {},
   "outputs": [
    {
     "data": {
      "text/plain": [
       "male      675\n",
       "female    662\n",
       "Name: sex, dtype: int64"
      ]
     },
     "execution_count": 111,
     "metadata": {},
     "output_type": "execute_result"
    }
   ],
   "source": [
    "#counting the number of males and females\n",
    "data['sex'].value_counts()"
   ]
  },
  {
   "cell_type": "markdown",
   "id": "973b07be",
   "metadata": {},
   "source": [
    "Here number of males are 675 and number of females are 662."
   ]
  },
  {
   "cell_type": "code",
   "execution_count": 112,
   "id": "5de1d2b3",
   "metadata": {},
   "outputs": [
    {
     "data": {
      "image/png": "[encoded data removed]",
      "text/plain": [
       "<Figure size 432x288 with 1 Axes>"
      ]
     },
     "metadata": {},
     "output_type": "display_data"
    }
   ],
   "source": [
    "# Vizualizing bmi column\n",
    "plt.hist(data.bmi)\n",
    "plt.title(\"BMI REPRESENTATION\")\n",
    "plt.show()"
   ]
  },
  {
   "cell_type": "code",
   "execution_count": 113,
   "id": "08bcdc19",
   "metadata": {},
   "outputs": [
    {
     "name": "stderr",
     "output_type": "stream",
     "text": [
      "C:\\Users\\Priya\\anaconda3\\lib\\site-packages\\seaborn\\_decorators.py:36: FutureWarning: Pass the following variable as a keyword arg: x. From version 0.12, the only valid positional argument will be `data`, and passing other arguments without an explicit keyword will result in an error or misinterpretation.\n",
      "  warnings.warn(\n"
     ]
    },
    {
     "data": {
      "image/png": "[encoded data removed]",
      "text/plain": [
       "<Figure size 432x288 with 1 Axes>"
      ]
     },
     "metadata": {},
     "output_type": "display_data"
    }
   ],
   "source": [
    "# Vizualizing children column\n",
    "sns.countplot(data.children)\n",
    "plt.title(\"CHILDREN'S REPRESENTATION\")\n",
    "plt.show()"
   ]
  },
  {
   "cell_type": "code",
   "execution_count": 114,
   "id": "9e58fbc6",
   "metadata": {},
   "outputs": [
    {
     "data": {
      "text/plain": [
       "0    573\n",
       "1    324\n",
       "2    240\n",
       "3    157\n",
       "4     25\n",
       "5     18\n",
       "Name: children, dtype: int64"
      ]
     },
     "execution_count": 114,
     "metadata": {},
     "output_type": "execute_result"
    }
   ],
   "source": [
    "# counting number of children\n",
    "data['children'].value_counts()"
   ]
  },
  {
   "cell_type": "markdown",
   "id": "0b6108ab",
   "metadata": {},
   "source": [
    "Here 573 people have no children, 324 people have 1 children, 240 people have 2 children, 157 people have 3 children, 25 people have 4 children and 18 people have 5 children."
   ]
  },
  {
   "cell_type": "code",
   "execution_count": 115,
   "id": "dea897df",
   "metadata": {},
   "outputs": [
    {
     "data": {
      "image/png": "[encoded data removed]",
      "text/plain": [
       "<Figure size 360x360 with 1 Axes>"
      ]
     },
     "metadata": {},
     "output_type": "display_data"
    }
   ],
   "source": [
    "# Vizualizing smoker column\n",
    "plt.figure(figsize=(5,5))\n",
    "plt.title(\"Smoker Representation\")\n",
    "sns.histplot(data.smoker)\n",
    "plt.show()"
   ]
  },
  {
   "cell_type": "markdown",
   "id": "005fadea",
   "metadata": {},
   "source": [
    "By seeing this we can understand that majority of people are not smokers."
   ]
  },
  {
   "cell_type": "code",
   "execution_count": 116,
   "id": "a2165b12",
   "metadata": {
    "scrolled": false
   },
   "outputs": [
    {
     "name": "stderr",
     "output_type": "stream",
     "text": [
      "C:\\Users\\Priya\\anaconda3\\lib\\site-packages\\seaborn\\distributions.py:2557: FutureWarning: `distplot` is a deprecated function and will be removed in a future version. Please adapt your code to use either `displot` (a figure-level function with similar flexibility) or `histplot` (an axes-level function for histograms).\n",
      "  warnings.warn(msg, FutureWarning)\n"
     ]
    },
    {
     "data": {
      "image/png": "[encoded data removed]",
      "text/plain": [
       "<Figure size 432x288 with 1 Axes>"
      ]
     },
     "metadata": {},
     "output_type": "display_data"
    },
    {
     "data": {
      "text/plain": [
       "<Figure size 1440x720 with 0 Axes>"
      ]
     },
     "metadata": {},
     "output_type": "display_data"
    }
   ],
   "source": [
    "# Vizualization of charges plot\n",
    "sns.distplot(data.charges)\n",
    "plt.title(\"CHARGES REPRESENTATION\")\n",
    "plt.figure(figsize=(20,10))\n",
    "plt.show()"
   ]
  },
  {
   "cell_type": "markdown",
   "id": "75b1afb1",
   "metadata": {},
   "source": [
    "Here in this distribution we can see that the it is a right skewed."
   ]
  },
  {
   "cell_type": "markdown",
   "id": "c9f0403e",
   "metadata": {},
   "source": [
    "# Plotting \"charges\" column with other columns"
   ]
  },
  {
   "cell_type": "code",
   "execution_count": 117,
   "id": "a82d54d1",
   "metadata": {},
   "outputs": [
    {
     "data": {
      "image/png": "[encoded data removed]",
      "text/plain": [
       "<Figure size 720x360 with 1 Axes>"
      ]
     },
     "metadata": {},
     "output_type": "display_data"
    }
   ],
   "source": [
    "# Plotting the graph between charges and age column\n",
    "plt.figure(figsize=(10,5))\n",
    "sns.lineplot(x='age',y='charges',data=data)\n",
    "plt.show()"
   ]
  },
  {
   "cell_type": "markdown",
   "id": "401bd476",
   "metadata": {},
   "source": [
    "- This plot shows that number of age is increasing, so as the charges."
   ]
  },
  {
   "cell_type": "code",
   "execution_count": 118,
   "id": "313c3bef",
   "metadata": {},
   "outputs": [
    {
     "data": {
      "image/png": "[encoded data removed]",
      "text/plain": [
       "<Figure size 432x288 with 1 Axes>"
      ]
     },
     "metadata": {},
     "output_type": "display_data"
    },
    {
     "data": {
      "text/plain": [
       "<Figure size 720x360 with 0 Axes>"
      ]
     },
     "metadata": {},
     "output_type": "display_data"
    }
   ],
   "source": [
    "# Plot between smoker and charges\n",
    "sns.barplot(x='smoker',y='charges',data=data)\n",
    "plt.figure(figsize=(10,5))\n",
    "plt.show()"
   ]
  },
  {
   "cell_type": "markdown",
   "id": "49487f69",
   "metadata": {},
   "source": [
    "- We can analyse here in this that maximum number of people who are smoker have higher charges compared to non smokers."
   ]
  },
  {
   "cell_type": "code",
   "execution_count": 119,
   "id": "8b634359",
   "metadata": {},
   "outputs": [
    {
     "data": {
      "image/png": "[encoded data removed]",
      "text/plain": [
       "<Figure size 432x288 with 1 Axes>"
      ]
     },
     "metadata": {},
     "output_type": "display_data"
    },
    {
     "data": {
      "text/plain": [
       "<Figure size 720x360 with 0 Axes>"
      ]
     },
     "metadata": {},
     "output_type": "display_data"
    }
   ],
   "source": [
    "# plotting between charges and region columns\n",
    "sns.barplot(x='region',y='charges',data=data)\n",
    "plt.figure(figsize=(10,5))\n",
    "plt.show()"
   ]
  },
  {
   "cell_type": "markdown",
   "id": "bb2cf452",
   "metadata": {},
   "source": [
    "As we can see, __southeast__ region people have highest medical expenses,then __northeast__ people have second highest medical expenses. __Northweat__ and __Southwest__ region people have same expenses."
   ]
  },
  {
   "cell_type": "code",
   "execution_count": 120,
   "id": "9877371c",
   "metadata": {},
   "outputs": [
    {
     "data": {
      "image/png": "[encoded data removed]",
      "text/plain": [
       "<Figure size 432x288 with 1 Axes>"
      ]
     },
     "metadata": {},
     "output_type": "display_data"
    },
    {
     "data": {
      "text/plain": [
       "<Figure size 1080x360 with 0 Axes>"
      ]
     },
     "metadata": {},
     "output_type": "display_data"
    }
   ],
   "source": [
    "# plotting between bmi and charges columns\n",
    "sns.lineplot(x='bmi',y='charges',data=data)\n",
    "plt.figure(figsize=(15,5))\n",
    "plt.show()"
   ]
  },
  {
   "cell_type": "markdown",
   "id": "ce291c01",
   "metadata": {},
   "source": [
    "It's very difficult to verify but bmi value of 30 and approx 46.5 have highest cost charges."
   ]
  },
  {
   "cell_type": "markdown",
   "id": "b5463fc2",
   "metadata": {},
   "source": [
    "# DATA PREPROCESSING"
   ]
  },
  {
   "cell_type": "markdown",
   "id": "8966a149",
   "metadata": {},
   "source": [
    "\n",
    "\n",
    "# Encoding The Categorical Columns"
   ]
  },
  {
   "cell_type": "markdown",
   "id": "3d11fe73",
   "metadata": {},
   "source": [
    "The purpose of doing this is to convert the string value that is present on categorical columns to numerical value."
   ]
  },
  {
   "cell_type": "code",
   "execution_count": 121,
   "id": "84490dfd",
   "metadata": {},
   "outputs": [],
   "source": [
    "#encoding sex column\n",
    "data.replace({'sex':{'male':0,'female':1}},inplace=True)"
   ]
  },
  {
   "cell_type": "code",
   "execution_count": 122,
   "id": "56b34f8a",
   "metadata": {},
   "outputs": [],
   "source": [
    "#encoding smoker column\n",
    "data.replace({'smoker':{'yes':1,'no':0}},inplace=True)"
   ]
  },
  {
   "cell_type": "code",
   "execution_count": 123,
   "id": "d53cd60b",
   "metadata": {},
   "outputs": [],
   "source": [
    "#encoding region column\n",
    "data.replace({'region':{'southeast':0,'southwest':1,'northeast':2,'northwest':3}},inplace=True)"
   ]
  },
  {
   "cell_type": "code",
   "execution_count": 124,
   "id": "a7599f1d",
   "metadata": {},
   "outputs": [
    {
     "data": {
      "text/html": [
       "<div>\n",
       "<style scoped>\n",
       "    .dataframe tbody tr th:only-of-type {\n",
       "        vertical-align: middle;\n",
       "    }\n",
       "\n",
       "    .dataframe tbody tr th {\n",
       "        vertical-align: top;\n",
       "    }\n",
       "\n",
       "    .dataframe thead th {\n",
       "        text-align: right;\n",
       "    }\n",
       "</style>\n",
       "<table border=\"1\" class=\"dataframe\">\n",
       "  <thead>\n",
       "    <tr style=\"text-align: right;\">\n",
       "      <th></th>\n",
       "      <th>age</th>\n",
       "      <th>sex</th>\n",
       "      <th>bmi</th>\n",
       "      <th>children</th>\n",
       "      <th>smoker</th>\n",
       "      <th>region</th>\n",
       "      <th>charges</th>\n",
       "    </tr>\n",
       "  </thead>\n",
       "  <tbody>\n",
       "    <tr>\n",
       "      <th>0</th>\n",
       "      <td>19</td>\n",
       "      <td>1</td>\n",
       "      <td>27.900</td>\n",
       "      <td>0</td>\n",
       "      <td>1</td>\n",
       "      <td>1</td>\n",
       "      <td>16884.92400</td>\n",
       "    </tr>\n",
       "    <tr>\n",
       "      <th>1</th>\n",
       "      <td>18</td>\n",
       "      <td>0</td>\n",
       "      <td>33.770</td>\n",
       "      <td>1</td>\n",
       "      <td>0</td>\n",
       "      <td>0</td>\n",
       "      <td>1725.55230</td>\n",
       "    </tr>\n",
       "    <tr>\n",
       "      <th>2</th>\n",
       "      <td>28</td>\n",
       "      <td>0</td>\n",
       "      <td>33.000</td>\n",
       "      <td>3</td>\n",
       "      <td>0</td>\n",
       "      <td>0</td>\n",
       "      <td>4449.46200</td>\n",
       "    </tr>\n",
       "    <tr>\n",
       "      <th>3</th>\n",
       "      <td>33</td>\n",
       "      <td>0</td>\n",
       "      <td>22.705</td>\n",
       "      <td>0</td>\n",
       "      <td>0</td>\n",
       "      <td>3</td>\n",
       "      <td>21984.47061</td>\n",
       "    </tr>\n",
       "    <tr>\n",
       "      <th>4</th>\n",
       "      <td>32</td>\n",
       "      <td>0</td>\n",
       "      <td>28.880</td>\n",
       "      <td>0</td>\n",
       "      <td>0</td>\n",
       "      <td>3</td>\n",
       "      <td>3866.85520</td>\n",
       "    </tr>\n",
       "  </tbody>\n",
       "</table>\n",
       "</div>"
      ],
      "text/plain": [
       "   age  sex     bmi  children  smoker  region      charges\n",
       "0   19    1  27.900         0       1       1  16884.92400\n",
       "1   18    0  33.770         1       0       0   1725.55230\n",
       "2   28    0  33.000         3       0       0   4449.46200\n",
       "3   33    0  22.705         0       0       3  21984.47061\n",
       "4   32    0  28.880         0       0       3   3866.85520"
      ]
     },
     "execution_count": 124,
     "metadata": {},
     "output_type": "execute_result"
    }
   ],
   "source": [
    "data.head()"
   ]
  },
  {
   "cell_type": "markdown",
   "id": "f9de991d",
   "metadata": {},
   "source": [
    "- As we can see, categorical values successfully got encoded to numerical values."
   ]
  },
  {
   "cell_type": "markdown",
   "id": "70f12996",
   "metadata": {},
   "source": [
    "# Splitting the Features and Target"
   ]
  },
  {
   "cell_type": "code",
   "execution_count": 125,
   "id": "c7062a27",
   "metadata": {},
   "outputs": [],
   "source": [
    "X=data.drop(columns='charges',axis=1)\n",
    "Y=data['charges']"
   ]
  },
  {
   "cell_type": "code",
   "execution_count": 126,
   "id": "ba24a542",
   "metadata": {},
   "outputs": [
    {
     "data": {
      "text/html": [
       "<div>\n",
       "<style scoped>\n",
       "    .dataframe tbody tr th:only-of-type {\n",
       "        vertical-align: middle;\n",
       "    }\n",
       "\n",
       "    .dataframe tbody tr th {\n",
       "        vertical-align: top;\n",
       "    }\n",
       "\n",
       "    .dataframe thead th {\n",
       "        text-align: right;\n",
       "    }\n",
       "</style>\n",
       "<table border=\"1\" class=\"dataframe\">\n",
       "  <thead>\n",
       "    <tr style=\"text-align: right;\">\n",
       "      <th></th>\n",
       "      <th>age</th>\n",
       "      <th>sex</th>\n",
       "      <th>bmi</th>\n",
       "      <th>children</th>\n",
       "      <th>smoker</th>\n",
       "      <th>region</th>\n",
       "    </tr>\n",
       "  </thead>\n",
       "  <tbody>\n",
       "    <tr>\n",
       "      <th>0</th>\n",
       "      <td>19</td>\n",
       "      <td>1</td>\n",
       "      <td>27.900</td>\n",
       "      <td>0</td>\n",
       "      <td>1</td>\n",
       "      <td>1</td>\n",
       "    </tr>\n",
       "    <tr>\n",
       "      <th>1</th>\n",
       "      <td>18</td>\n",
       "      <td>0</td>\n",
       "      <td>33.770</td>\n",
       "      <td>1</td>\n",
       "      <td>0</td>\n",
       "      <td>0</td>\n",
       "    </tr>\n",
       "    <tr>\n",
       "      <th>2</th>\n",
       "      <td>28</td>\n",
       "      <td>0</td>\n",
       "      <td>33.000</td>\n",
       "      <td>3</td>\n",
       "      <td>0</td>\n",
       "      <td>0</td>\n",
       "    </tr>\n",
       "    <tr>\n",
       "      <th>3</th>\n",
       "      <td>33</td>\n",
       "      <td>0</td>\n",
       "      <td>22.705</td>\n",
       "      <td>0</td>\n",
       "      <td>0</td>\n",
       "      <td>3</td>\n",
       "    </tr>\n",
       "    <tr>\n",
       "      <th>4</th>\n",
       "      <td>32</td>\n",
       "      <td>0</td>\n",
       "      <td>28.880</td>\n",
       "      <td>0</td>\n",
       "      <td>0</td>\n",
       "      <td>3</td>\n",
       "    </tr>\n",
       "    <tr>\n",
       "      <th>...</th>\n",
       "      <td>...</td>\n",
       "      <td>...</td>\n",
       "      <td>...</td>\n",
       "      <td>...</td>\n",
       "      <td>...</td>\n",
       "      <td>...</td>\n",
       "    </tr>\n",
       "    <tr>\n",
       "      <th>1333</th>\n",
       "      <td>50</td>\n",
       "      <td>0</td>\n",
       "      <td>30.970</td>\n",
       "      <td>3</td>\n",
       "      <td>0</td>\n",
       "      <td>3</td>\n",
       "    </tr>\n",
       "    <tr>\n",
       "      <th>1334</th>\n",
       "      <td>18</td>\n",
       "      <td>1</td>\n",
       "      <td>31.920</td>\n",
       "      <td>0</td>\n",
       "      <td>0</td>\n",
       "      <td>2</td>\n",
       "    </tr>\n",
       "    <tr>\n",
       "      <th>1335</th>\n",
       "      <td>18</td>\n",
       "      <td>1</td>\n",
       "      <td>36.850</td>\n",
       "      <td>0</td>\n",
       "      <td>0</td>\n",
       "      <td>0</td>\n",
       "    </tr>\n",
       "    <tr>\n",
       "      <th>1336</th>\n",
       "      <td>21</td>\n",
       "      <td>1</td>\n",
       "      <td>25.800</td>\n",
       "      <td>0</td>\n",
       "      <td>0</td>\n",
       "      <td>1</td>\n",
       "    </tr>\n",
       "    <tr>\n",
       "      <th>1337</th>\n",
       "      <td>61</td>\n",
       "      <td>1</td>\n",
       "      <td>29.070</td>\n",
       "      <td>0</td>\n",
       "      <td>1</td>\n",
       "      <td>3</td>\n",
       "    </tr>\n",
       "  </tbody>\n",
       "</table>\n",
       "<p>1337 rows × 6 columns</p>\n",
       "</div>"
      ],
      "text/plain": [
       "      age  sex     bmi  children  smoker  region\n",
       "0      19    1  27.900         0       1       1\n",
       "1      18    0  33.770         1       0       0\n",
       "2      28    0  33.000         3       0       0\n",
       "3      33    0  22.705         0       0       3\n",
       "4      32    0  28.880         0       0       3\n",
       "...   ...  ...     ...       ...     ...     ...\n",
       "1333   50    0  30.970         3       0       3\n",
       "1334   18    1  31.920         0       0       2\n",
       "1335   18    1  36.850         0       0       0\n",
       "1336   21    1  25.800         0       0       1\n",
       "1337   61    1  29.070         0       1       3\n",
       "\n",
       "[1337 rows x 6 columns]"
      ]
     },
     "execution_count": 126,
     "metadata": {},
     "output_type": "execute_result"
    }
   ],
   "source": [
    "X"
   ]
  },
  {
   "cell_type": "code",
   "execution_count": 127,
   "id": "50b0f360",
   "metadata": {},
   "outputs": [
    {
     "data": {
      "text/plain": [
       "0       16884.92400\n",
       "1        1725.55230\n",
       "2        4449.46200\n",
       "3       21984.47061\n",
       "4        3866.85520\n",
       "           ...     \n",
       "1333    10600.54830\n",
       "1334     2205.98080\n",
       "1335     1629.83350\n",
       "1336     2007.94500\n",
       "1337    29141.36030\n",
       "Name: charges, Length: 1337, dtype: float64"
      ]
     },
     "execution_count": 127,
     "metadata": {},
     "output_type": "execute_result"
    }
   ],
   "source": [
    "Y"
   ]
  },
  {
   "cell_type": "markdown",
   "id": "b559b4b7",
   "metadata": {},
   "source": [
    "- So we have successfully splitted the feature and target column"
   ]
  },
  {
   "cell_type": "markdown",
   "id": "937a99b4",
   "metadata": {},
   "source": [
    "# Splitting the data into training data and testing data"
   ]
  },
  {
   "cell_type": "code",
   "execution_count": 128,
   "id": "d0aa8c40",
   "metadata": {},
   "outputs": [],
   "source": [
    "from sklearn.model_selection import train_test_split\n",
    "X_train,X_test,Y_train,Y_test=train_test_split(X,Y,test_size=0.2,random_state=2)"
   ]
  },
  {
   "cell_type": "code",
   "execution_count": 129,
   "id": "993453f3",
   "metadata": {},
   "outputs": [
    {
     "data": {
      "text/plain": [
       "(1337, 6)"
      ]
     },
     "execution_count": 129,
     "metadata": {},
     "output_type": "execute_result"
    }
   ],
   "source": [
    "#checking rows and columns of X\n",
    "X.shape"
   ]
  },
  {
   "cell_type": "code",
   "execution_count": 130,
   "id": "5183d852",
   "metadata": {},
   "outputs": [
    {
     "data": {
      "text/plain": [
       "(1069, 6)"
      ]
     },
     "execution_count": 130,
     "metadata": {},
     "output_type": "execute_result"
    }
   ],
   "source": [
    "#checking rows and columns of X_train\n",
    "X_train.shape"
   ]
  },
  {
   "cell_type": "code",
   "execution_count": 131,
   "id": "4c7fe39b",
   "metadata": {},
   "outputs": [
    {
     "data": {
      "text/plain": [
       "(268, 6)"
      ]
     },
     "execution_count": 131,
     "metadata": {},
     "output_type": "execute_result"
    }
   ],
   "source": [
    "#checking rows and columns of X_test\n",
    "X_test.shape"
   ]
  },
  {
   "cell_type": "markdown",
   "id": "847111f1",
   "metadata": {},
   "source": [
    "# Normalizing The Data"
   ]
  },
  {
   "cell_type": "code",
   "execution_count": 132,
   "id": "4824045b",
   "metadata": {},
   "outputs": [],
   "source": [
    "from sklearn.preprocessing import StandardScaler\n",
    "sc= StandardScaler()\n",
    "X_train=sc.fit_transform(X_train)\n",
    "X_test=sc.fit_transform(X_test)"
   ]
  },
  {
   "cell_type": "code",
   "execution_count": 133,
   "id": "916d45ae",
   "metadata": {},
   "outputs": [
    {
     "data": {
      "text/plain": [
       "array([[-0.17268776, -0.98976241,  2.62951167,  1.58413201, -0.50321359,\n",
       "        -1.29167637],\n",
       "       [-0.17268776, -0.98976241,  0.0345788 ,  1.58413201, -0.50321359,\n",
       "         1.36882852],\n",
       "       [ 0.68493463, -0.98976241,  0.03872274, -0.91479143,  1.98722774,\n",
       "        -0.4048414 ],\n",
       "       ...,\n",
       "       [ 1.54255702, -0.98976241,  2.11069085, -0.91479143, -0.50321359,\n",
       "        -0.4048414 ],\n",
       "       [ 0.82787169,  1.01034348, -0.80664025, -0.08181695, -0.50321359,\n",
       "        -0.4048414 ],\n",
       "       [ 0.6134661 ,  1.01034348,  0.97939626, -0.91479143, -0.50321359,\n",
       "         1.36882852]])"
      ]
     },
     "execution_count": 133,
     "metadata": {},
     "output_type": "execute_result"
    }
   ],
   "source": [
    "X_train"
   ]
  },
  {
   "cell_type": "code",
   "execution_count": 134,
   "id": "cfd1de9e",
   "metadata": {},
   "outputs": [
    {
     "data": {
      "text/plain": [
       "array([[-1.08800391, -0.99256495, -1.07161079, -0.8876449 , -0.52553827,\n",
       "         0.4844368 ],\n",
       "       [ 1.16579356,  1.00749074, -0.12936895, -0.8876449 , -0.52553827,\n",
       "         0.4844368 ],\n",
       "       [ 0.81363771, -0.99256495, -0.50327444, -0.0701575 , -0.52553827,\n",
       "         0.4844368 ],\n",
       "       ...,\n",
       "       [ 1.37708708,  1.00749074,  0.27444898, -0.0701575 , -0.52553827,\n",
       "         0.4844368 ],\n",
       "       [ 0.67277537, -0.99256495,  1.04508788,  0.7473299 , -0.52553827,\n",
       "        -1.27000998],\n",
       "       [-1.3697286 ,  1.00749074,  1.41112168, -0.0701575 , -0.52553827,\n",
       "         1.36166018]])"
      ]
     },
     "execution_count": 134,
     "metadata": {},
     "output_type": "execute_result"
    }
   ],
   "source": [
    "X_test"
   ]
  },
  {
   "cell_type": "markdown",
   "id": "ee0e417b",
   "metadata": {},
   "source": [
    "# 1. Applying Linear Regression Algorithm"
   ]
  },
  {
   "cell_type": "code",
   "execution_count": 135,
   "id": "a7edc63e",
   "metadata": {},
   "outputs": [],
   "source": [
    "from sklearn.linear_model import LinearRegression"
   ]
  },
  {
   "cell_type": "code",
   "execution_count": 136,
   "id": "fc8da0f0",
   "metadata": {},
   "outputs": [
    {
     "data": {
      "text/plain": [
       "LinearRegression()"
      ]
     },
     "execution_count": 136,
     "metadata": {},
     "output_type": "execute_result"
    }
   ],
   "source": [
    "#loading the linear regression model\n",
    "lr = LinearRegression()\n",
    "lr.fit(X_train,Y_train)"
   ]
  },
  {
   "cell_type": "markdown",
   "id": "bdd45269",
   "metadata": {},
   "source": [
    "# Model Evaluation"
   ]
  },
  {
   "cell_type": "code",
   "execution_count": 137,
   "id": "a99fd9c5",
   "metadata": {},
   "outputs": [],
   "source": [
    "#prediction of testing data\n",
    "y_predict1=lr.predict(X_test)"
   ]
  },
  {
   "cell_type": "code",
   "execution_count": 138,
   "id": "f3d5401a",
   "metadata": {},
   "outputs": [],
   "source": [
    "##Getting R squared value for testing data\n",
    "from sklearn import metrics\n",
    "r2=metrics.r2_score(Y_test,y_predict1)"
   ]
  },
  {
   "cell_type": "code",
   "execution_count": 139,
   "id": "c9eeb68c",
   "metadata": {},
   "outputs": [
    {
     "data": {
      "text/plain": [
       "0.7157747915849079"
      ]
     },
     "execution_count": 139,
     "metadata": {},
     "output_type": "execute_result"
    }
   ],
   "source": [
    "r2"
   ]
  },
  {
   "cell_type": "markdown",
   "id": "2f65b1cf",
   "metadata": {},
   "source": [
    "# 2. Applying Random Forest Algorithm"
   ]
  },
  {
   "cell_type": "code",
   "execution_count": 140,
   "id": "005ade20",
   "metadata": {},
   "outputs": [],
   "source": [
    "from sklearn.ensemble import RandomForestRegressor"
   ]
  },
  {
   "cell_type": "code",
   "execution_count": 141,
   "id": "4fef2e93",
   "metadata": {},
   "outputs": [
    {
     "data": {
      "text/plain": [
       "RandomForestRegressor()"
      ]
     },
     "execution_count": 141,
     "metadata": {},
     "output_type": "execute_result"
    }
   ],
   "source": [
    "rf=RandomForestRegressor()\n",
    "rf.fit(X_train,Y_train)"
   ]
  },
  {
   "cell_type": "code",
   "execution_count": 142,
   "id": "40a1b9b2",
   "metadata": {},
   "outputs": [],
   "source": [
    "# Predicting the testing data\n",
    "y_predict2=rf.predict(X_test)"
   ]
  },
  {
   "cell_type": "code",
   "execution_count": 143,
   "id": "8a3ba45f",
   "metadata": {},
   "outputs": [],
   "source": [
    "#Checking the R Square value for testing data\n",
    "from sklearn import metrics\n",
    "r_test=metrics.r2_score(Y_test,y_predict2)"
   ]
  },
  {
   "cell_type": "code",
   "execution_count": 144,
   "id": "af0b1d0a",
   "metadata": {},
   "outputs": [
    {
     "data": {
      "text/plain": [
       "0.8257478923713442"
      ]
     },
     "execution_count": 144,
     "metadata": {},
     "output_type": "execute_result"
    }
   ],
   "source": [
    "r_test"
   ]
  },
  {
   "cell_type": "markdown",
   "id": "901bdc1b",
   "metadata": {},
   "source": [
    "# 3. Applying Gradient Boosting Algorithm"
   ]
  },
  {
   "cell_type": "code",
   "execution_count": 145,
   "id": "e1c970a1",
   "metadata": {},
   "outputs": [],
   "source": [
    "from sklearn.ensemble import GradientBoostingRegressor"
   ]
  },
  {
   "cell_type": "code",
   "execution_count": 146,
   "id": "59d06a60",
   "metadata": {},
   "outputs": [
    {
     "data": {
      "text/plain": [
       "GradientBoostingRegressor(learning_rate=0.2, max_depth=2)"
      ]
     },
     "execution_count": 146,
     "metadata": {},
     "output_type": "execute_result"
    }
   ],
   "source": [
    "gr=GradientBoostingRegressor(max_depth=2, n_estimators=100, learning_rate =.2)\n",
    "gr.fit(X_train,Y_train)"
   ]
  },
  {
   "cell_type": "code",
   "execution_count": 147,
   "id": "cd01306a",
   "metadata": {},
   "outputs": [],
   "source": [
    "#prediction of testing data\n",
    "y_predict3=gr.predict(X_test)"
   ]
  },
  {
   "cell_type": "code",
   "execution_count": 148,
   "id": "01506615",
   "metadata": {},
   "outputs": [],
   "source": [
    "#checking R Squared value for testing data\n",
    "r3_test=metrics.r2_score(Y_test,y_predict3)"
   ]
  },
  {
   "cell_type": "code",
   "execution_count": 149,
   "id": "c9a87d8a",
   "metadata": {},
   "outputs": [
    {
     "data": {
      "text/plain": [
       "0.8501202195818373"
      ]
     },
     "execution_count": 149,
     "metadata": {},
     "output_type": "execute_result"
    }
   ],
   "source": [
    "r3_test"
   ]
  },
  {
   "cell_type": "markdown",
   "id": "3875e351",
   "metadata": {},
   "source": [
    "# 4. Applying K Nearest Neighbour Algorithm"
   ]
  },
  {
   "cell_type": "code",
   "execution_count": 150,
   "id": "34c142dc",
   "metadata": {},
   "outputs": [],
   "source": [
    "from sklearn.neighbors import KNeighborsRegressor"
   ]
  },
  {
   "cell_type": "code",
   "execution_count": 151,
   "id": "722c3c48",
   "metadata": {},
   "outputs": [
    {
     "data": {
      "text/plain": [
       "KNeighborsRegressor(n_neighbors=10)"
      ]
     },
     "execution_count": 151,
     "metadata": {},
     "output_type": "execute_result"
    }
   ],
   "source": [
    "knn = KNeighborsRegressor(n_neighbors=10)\n",
    "knn.fit(X_train,Y_train)"
   ]
  },
  {
   "cell_type": "code",
   "execution_count": 152,
   "id": "aaadcd90",
   "metadata": {},
   "outputs": [],
   "source": [
    "#prediction of testing data\n",
    "y_predict4=knn.predict(X_test)"
   ]
  },
  {
   "cell_type": "code",
   "execution_count": 153,
   "id": "ad3a7575",
   "metadata": {},
   "outputs": [],
   "source": [
    "#checking R Squared value for testing data\n",
    "r4_test=metrics.r2_score(Y_test,y_predict4)"
   ]
  },
  {
   "cell_type": "code",
   "execution_count": 154,
   "id": "946b9b7a",
   "metadata": {},
   "outputs": [
    {
     "data": {
      "text/plain": [
       "0.7842029970113278"
      ]
     },
     "execution_count": 154,
     "metadata": {},
     "output_type": "execute_result"
    }
   ],
   "source": [
    "r4_test"
   ]
  },
  {
   "cell_type": "markdown",
   "id": "12477712",
   "metadata": {},
   "source": [
    "# 5. Applying Ada Boost Regressor Algorithm"
   ]
  },
  {
   "cell_type": "code",
   "execution_count": 155,
   "id": "47d6e0e8",
   "metadata": {},
   "outputs": [
    {
     "data": {
      "text/plain": [
       "AdaBoostRegressor(learning_rate=0.01)"
      ]
     },
     "execution_count": 155,
     "metadata": {},
     "output_type": "execute_result"
    }
   ],
   "source": [
    "from sklearn.ensemble import AdaBoostRegressor\n",
    "ada = AdaBoostRegressor( n_estimators=50, learning_rate =.01)\n",
    "ada.fit(X_train,Y_train)"
   ]
  },
  {
   "cell_type": "code",
   "execution_count": 156,
   "id": "944d4790",
   "metadata": {},
   "outputs": [
    {
     "data": {
      "text/plain": [
       "0.8460038735887385"
      ]
     },
     "execution_count": 156,
     "metadata": {},
     "output_type": "execute_result"
    }
   ],
   "source": [
    "#checking r sqaured value for adaboostregressor\n",
    "y_pred4 = ada.predict(X_test)\n",
    "from sklearn.metrics import r2_score\n",
    "r5 = r2_score(Y_test,y_pred4)\n",
    "r5"
   ]
  },
  {
   "cell_type": "code",
   "execution_count": 157,
   "id": "61da821c",
   "metadata": {},
   "outputs": [
    {
     "data": {
      "text/html": [
       "<div>\n",
       "<style scoped>\n",
       "    .dataframe tbody tr th:only-of-type {\n",
       "        vertical-align: middle;\n",
       "    }\n",
       "\n",
       "    .dataframe tbody tr th {\n",
       "        vertical-align: top;\n",
       "    }\n",
       "\n",
       "    .dataframe thead th {\n",
       "        text-align: right;\n",
       "    }\n",
       "</style>\n",
       "<table border=\"1\" class=\"dataframe\">\n",
       "  <thead>\n",
       "    <tr style=\"text-align: right;\">\n",
       "      <th></th>\n",
       "      <th>Model</th>\n",
       "      <th>R Square</th>\n",
       "    </tr>\n",
       "  </thead>\n",
       "  <tbody>\n",
       "    <tr>\n",
       "      <th>0</th>\n",
       "      <td>LinearRegression</td>\n",
       "      <td>0.715775</td>\n",
       "    </tr>\n",
       "    <tr>\n",
       "      <th>1</th>\n",
       "      <td>Random Forest</td>\n",
       "      <td>0.825748</td>\n",
       "    </tr>\n",
       "    <tr>\n",
       "      <th>2</th>\n",
       "      <td>Gradient Boosting</td>\n",
       "      <td>0.850120</td>\n",
       "    </tr>\n",
       "    <tr>\n",
       "      <th>3</th>\n",
       "      <td>KNeighbors</td>\n",
       "      <td>0.784203</td>\n",
       "    </tr>\n",
       "    <tr>\n",
       "      <th>4</th>\n",
       "      <td>AdaBoost</td>\n",
       "      <td>0.846004</td>\n",
       "    </tr>\n",
       "  </tbody>\n",
       "</table>\n",
       "</div>"
      ],
      "text/plain": [
       "               Model  R Square\n",
       "0   LinearRegression  0.715775\n",
       "1      Random Forest  0.825748\n",
       "2  Gradient Boosting  0.850120\n",
       "3         KNeighbors  0.784203\n",
       "4           AdaBoost  0.846004"
      ]
     },
     "execution_count": 157,
     "metadata": {},
     "output_type": "execute_result"
    }
   ],
   "source": [
    "# R squre value Results\n",
    "metric_results= {'Model': ['LinearRegression','Random Forest','Gradient Boosting','KNeighbors','AdaBoost'], 'R Square': [r2, r_test, r3_test,r4_test,r5]}\n",
    "                \n",
    "metrics=pd.DataFrame(metric_results)\n",
    "metrics"
   ]
  },
  {
   "cell_type": "markdown",
   "id": "0b18f7ec",
   "metadata": {},
   "source": [
    "Here __Linear Regression__ have the __lowest__ r sqaured value with the 71.57% accuracy of all 5 and __Gradient Boosting__ have __hightest__ r squared value with the accuracy of almost 85%."
   ]
  },
  {
   "cell_type": "markdown",
   "id": "9920a81d",
   "metadata": {},
   "source": [
    "# Creating the new dataframe of the predicted values of the charges column \n",
    "\n",
    "Here, we are creating the new dataframe to compare the predicted values of the target columns i.e \"charges\" by creating the dictionary of predicted values with the algortihms that we used."
   ]
  },
  {
   "cell_type": "code",
   "execution_count": 158,
   "id": "77b9bcec",
   "metadata": {},
   "outputs": [],
   "source": [
    "df=pd.DataFrame({'Actual':Y_test,'lr':y_predict1,'rf':y_predict2,'gr':y_predict3,'knn':y_predict4,'ada':y_pred4})"
   ]
  },
  {
   "cell_type": "code",
   "execution_count": 159,
   "id": "c6af9321",
   "metadata": {},
   "outputs": [
    {
     "data": {
      "text/html": [
       "<div>\n",
       "<style scoped>\n",
       "    .dataframe tbody tr th:only-of-type {\n",
       "        vertical-align: middle;\n",
       "    }\n",
       "\n",
       "    .dataframe tbody tr th {\n",
       "        vertical-align: top;\n",
       "    }\n",
       "\n",
       "    .dataframe thead th {\n",
       "        text-align: right;\n",
       "    }\n",
       "</style>\n",
       "<table border=\"1\" class=\"dataframe\">\n",
       "  <thead>\n",
       "    <tr style=\"text-align: right;\">\n",
       "      <th></th>\n",
       "      <th>Actual</th>\n",
       "      <th>lr</th>\n",
       "      <th>rf</th>\n",
       "      <th>gr</th>\n",
       "      <th>knn</th>\n",
       "      <th>ada</th>\n",
       "    </tr>\n",
       "  </thead>\n",
       "  <tbody>\n",
       "    <tr>\n",
       "      <th>17</th>\n",
       "      <td>2395.17155</td>\n",
       "      <td>1531.705687</td>\n",
       "      <td>3997.267291</td>\n",
       "      <td>5086.135918</td>\n",
       "      <td>2023.278280</td>\n",
       "      <td>6162.191656</td>\n",
       "    </tr>\n",
       "    <tr>\n",
       "      <th>1091</th>\n",
       "      <td>11286.53870</td>\n",
       "      <td>11611.739426</td>\n",
       "      <td>12773.653358</td>\n",
       "      <td>12323.609113</td>\n",
       "      <td>13283.450126</td>\n",
       "      <td>12906.594536</td>\n",
       "    </tr>\n",
       "    <tr>\n",
       "      <th>273</th>\n",
       "      <td>9617.66245</td>\n",
       "      <td>10164.893975</td>\n",
       "      <td>13441.798468</td>\n",
       "      <td>10929.811812</td>\n",
       "      <td>11818.497278</td>\n",
       "      <td>11597.861037</td>\n",
       "    </tr>\n",
       "    <tr>\n",
       "      <th>270</th>\n",
       "      <td>1719.43630</td>\n",
       "      <td>2422.750781</td>\n",
       "      <td>2182.632687</td>\n",
       "      <td>3126.461377</td>\n",
       "      <td>4825.308645</td>\n",
       "      <td>3489.720365</td>\n",
       "    </tr>\n",
       "    <tr>\n",
       "      <th>874</th>\n",
       "      <td>8891.13950</td>\n",
       "      <td>8239.854941</td>\n",
       "      <td>9505.815292</td>\n",
       "      <td>9446.490304</td>\n",
       "      <td>10256.595243</td>\n",
       "      <td>10736.971570</td>\n",
       "    </tr>\n",
       "    <tr>\n",
       "      <th>...</th>\n",
       "      <td>...</td>\n",
       "      <td>...</td>\n",
       "      <td>...</td>\n",
       "      <td>...</td>\n",
       "      <td>...</td>\n",
       "      <td>...</td>\n",
       "    </tr>\n",
       "    <tr>\n",
       "      <th>232</th>\n",
       "      <td>1727.78500</td>\n",
       "      <td>-1288.413830</td>\n",
       "      <td>2148.320860</td>\n",
       "      <td>1714.391480</td>\n",
       "      <td>2356.052310</td>\n",
       "      <td>3429.505113</td>\n",
       "    </tr>\n",
       "    <tr>\n",
       "      <th>323</th>\n",
       "      <td>11566.30055</td>\n",
       "      <td>15377.123065</td>\n",
       "      <td>16005.698506</td>\n",
       "      <td>13590.641071</td>\n",
       "      <td>13291.619744</td>\n",
       "      <td>12906.594536</td>\n",
       "    </tr>\n",
       "    <tr>\n",
       "      <th>1192</th>\n",
       "      <td>13019.16105</td>\n",
       "      <td>13802.391618</td>\n",
       "      <td>14362.009401</td>\n",
       "      <td>15512.134268</td>\n",
       "      <td>12199.748525</td>\n",
       "      <td>14910.367128</td>\n",
       "    </tr>\n",
       "    <tr>\n",
       "      <th>1066</th>\n",
       "      <td>8978.18510</td>\n",
       "      <td>13123.795799</td>\n",
       "      <td>9784.939004</td>\n",
       "      <td>10877.651258</td>\n",
       "      <td>10406.176255</td>\n",
       "      <td>11597.861037</td>\n",
       "    </tr>\n",
       "    <tr>\n",
       "      <th>960</th>\n",
       "      <td>2730.10785</td>\n",
       "      <td>6103.082164</td>\n",
       "      <td>9378.474718</td>\n",
       "      <td>6427.841381</td>\n",
       "      <td>3209.033405</td>\n",
       "      <td>3489.720365</td>\n",
       "    </tr>\n",
       "  </tbody>\n",
       "</table>\n",
       "<p>268 rows × 6 columns</p>\n",
       "</div>"
      ],
      "text/plain": [
       "           Actual            lr            rf            gr           knn  \\\n",
       "17     2395.17155   1531.705687   3997.267291   5086.135918   2023.278280   \n",
       "1091  11286.53870  11611.739426  12773.653358  12323.609113  13283.450126   \n",
       "273    9617.66245  10164.893975  13441.798468  10929.811812  11818.497278   \n",
       "270    1719.43630   2422.750781   2182.632687   3126.461377   4825.308645   \n",
       "874    8891.13950   8239.854941   9505.815292   9446.490304  10256.595243   \n",
       "...           ...           ...           ...           ...           ...   \n",
       "232    1727.78500  -1288.413830   2148.320860   1714.391480   2356.052310   \n",
       "323   11566.30055  15377.123065  16005.698506  13590.641071  13291.619744   \n",
       "1192  13019.16105  13802.391618  14362.009401  15512.134268  12199.748525   \n",
       "1066   8978.18510  13123.795799   9784.939004  10877.651258  10406.176255   \n",
       "960    2730.10785   6103.082164   9378.474718   6427.841381   3209.033405   \n",
       "\n",
       "               ada  \n",
       "17     6162.191656  \n",
       "1091  12906.594536  \n",
       "273   11597.861037  \n",
       "270    3489.720365  \n",
       "874   10736.971570  \n",
       "...            ...  \n",
       "232    3429.505113  \n",
       "323   12906.594536  \n",
       "1192  14910.367128  \n",
       "1066  11597.861037  \n",
       "960    3489.720365  \n",
       "\n",
       "[268 rows x 6 columns]"
      ]
     },
     "execution_count": 159,
     "metadata": {},
     "output_type": "execute_result"
    }
   ],
   "source": [
    "df"
   ]
  },
  {
   "cell_type": "markdown",
   "id": "e586723f",
   "metadata": {},
   "source": [
    "- As we can see here it's quite hard to figure out that out of the above algorithms, which one is better so we have to create the plot to vizualize this."
   ]
  },
  {
   "cell_type": "markdown",
   "id": "5a5f3102",
   "metadata": {},
   "source": [
    "# Comparing Performance Visually"
   ]
  },
  {
   "cell_type": "code",
   "execution_count": 160,
   "id": "c5bedbfd",
   "metadata": {},
   "outputs": [
    {
     "data": {
      "image/png": "[encoded data removed]",
      "text/plain": [
       "<Figure size 432x288 with 5 Axes>"
      ]
     },
     "metadata": {},
     "output_type": "display_data"
    }
   ],
   "source": [
    "plt.subplot(321)\n",
    "plt.plot(df['Actual'].iloc[0:11],label='Actual')\n",
    "plt.plot(df['lr'].iloc[0:11],label='lr')\n",
    "plt.legend()\n",
    "\n",
    "plt.subplot(322)\n",
    "plt.plot(df['Actual'].iloc[0:11],label='Actual')\n",
    "plt.plot(df['rf'].iloc[0:11],label='rf')\n",
    "plt.legend()\n",
    "\n",
    "plt.subplot(323)\n",
    "plt.plot(df['Actual'].iloc[0:11],label='Actual')\n",
    "plt.plot(df['gr'].iloc[0:11],label='gr')\n",
    "plt.legend()\n",
    "\n",
    "\n",
    "plt.subplot(324)\n",
    "plt.plot(df['Actual'].iloc[0:11],label='Actual')\n",
    "plt.plot(df['knn'].iloc[0:11],label='knn')\n",
    "plt.legend()\n",
    "\n",
    "plt.subplot(325)\n",
    "plt.plot(df['Actual'].iloc[0:11],label='Actual')\n",
    "plt.plot(df['ada'].iloc[0:11],label='ada')\n",
    "plt.legend()\n",
    "\n",
    "plt.tight_layout()\n",
    "\n",
    "\n"
   ]
  },
  {
   "cell_type": "markdown",
   "id": "6db35625",
   "metadata": {},
   "source": [
    "Here in this plot rf,gr and ada plots are quite same. But __Gradient Boosting__ has slightly better plot compared to the other two. "
   ]
  },
  {
   "cell_type": "markdown",
   "id": "ac74b406",
   "metadata": {},
   "source": [
    "# Figuring out mean absolute errors"
   ]
  },
  {
   "cell_type": "code",
   "execution_count": 161,
   "id": "d7d74afe",
   "metadata": {},
   "outputs": [],
   "source": [
    "from sklearn.metrics import mean_absolute_error"
   ]
  },
  {
   "cell_type": "code",
   "execution_count": 162,
   "id": "b9ab501d",
   "metadata": {},
   "outputs": [],
   "source": [
    "S1=mean_absolute_error(Y_test,y_predict1)\n",
    "S2=mean_absolute_error(Y_test,y_predict2)\n",
    "S3=mean_absolute_error(Y_test,y_predict3)\n",
    "S4=mean_absolute_error(Y_test,y_predict4)\n",
    "S5=mean_absolute_error(Y_test,y_pred4)"
   ]
  },
  {
   "cell_type": "code",
   "execution_count": 163,
   "id": "eefac204",
   "metadata": {},
   "outputs": [
    {
     "data": {
      "text/html": [
       "<div>\n",
       "<style scoped>\n",
       "    .dataframe tbody tr th:only-of-type {\n",
       "        vertical-align: middle;\n",
       "    }\n",
       "\n",
       "    .dataframe tbody tr th {\n",
       "        vertical-align: top;\n",
       "    }\n",
       "\n",
       "    .dataframe thead th {\n",
       "        text-align: right;\n",
       "    }\n",
       "</style>\n",
       "<table border=\"1\" class=\"dataframe\">\n",
       "  <thead>\n",
       "    <tr style=\"text-align: right;\">\n",
       "      <th></th>\n",
       "      <th>Model</th>\n",
       "      <th>Absolute Mean Error</th>\n",
       "    </tr>\n",
       "  </thead>\n",
       "  <tbody>\n",
       "    <tr>\n",
       "      <th>0</th>\n",
       "      <td>LinearRegression</td>\n",
       "      <td>4452.762710</td>\n",
       "    </tr>\n",
       "    <tr>\n",
       "      <th>1</th>\n",
       "      <td>Random Forest</td>\n",
       "      <td>2934.921577</td>\n",
       "    </tr>\n",
       "    <tr>\n",
       "      <th>2</th>\n",
       "      <td>Gradient Boosting</td>\n",
       "      <td>2682.748799</td>\n",
       "    </tr>\n",
       "    <tr>\n",
       "      <th>3</th>\n",
       "      <td>KNeighbors</td>\n",
       "      <td>3378.778501</td>\n",
       "    </tr>\n",
       "    <tr>\n",
       "      <th>4</th>\n",
       "      <td>AdaBoost</td>\n",
       "      <td>3018.713198</td>\n",
       "    </tr>\n",
       "  </tbody>\n",
       "</table>\n",
       "</div>"
      ],
      "text/plain": [
       "               Model  Absolute Mean Error\n",
       "0   LinearRegression          4452.762710\n",
       "1      Random Forest          2934.921577\n",
       "2  Gradient Boosting          2682.748799\n",
       "3         KNeighbors          3378.778501\n",
       "4           AdaBoost          3018.713198"
      ]
     },
     "execution_count": 163,
     "metadata": {},
     "output_type": "execute_result"
    }
   ],
   "source": [
    "metric_results1= {'Model': ['LinearRegression','Random Forest','Gradient Boosting','KNeighbors','AdaBoost'], 'Absolute Mean Error': [S1,S2,S3,S4,S5]}\n",
    "                \n",
    "m=pd.DataFrame(metric_results1)\n",
    "m"
   ]
  },
  {
   "cell_type": "markdown",
   "id": "8af028be",
   "metadata": {},
   "source": [
    "* s1 is for __linear regression__\n",
    "\n",
    "\n",
    "* s2 is for __random forest algorithm__\n",
    "\n",
    "\n",
    "* s3 is for __gradient bossting__ \n",
    "\n",
    "\n",
    "* s4 is for __knn nearest neighbour__\n",
    "\n",
    "\n",
    "* s5 is for __ada boosting__\n",
    "\n",
    "\n",
    "So after figuring out the absolute mean error, __Gradient Boosting Algorithm__ have least value compared to other 4 algorithms and hense it is the best among all 5 algorithms"
   ]
  },
  {
   "cell_type": "markdown",
   "id": "561d5be8",
   "metadata": {},
   "source": [
    "# Final Algorithm we select for prediction"
   ]
  },
  {
   "cell_type": "markdown",
   "id": "110d3c87",
   "metadata": {},
   "source": [
    "After comparing the 5 algorithms via plot and also checking the r squared value as well as absolute mean errror. We came to the conclusion that __Gradient Boosting Algorithm__ is the best algorithm out of 5 that we used above for the cost prediction."
   ]
  },
  {
   "cell_type": "markdown",
   "id": "f2ae1439",
   "metadata": {},
   "source": [
    "# Predicting Charges For New Customer"
   ]
  },
  {
   "cell_type": "code",
   "execution_count": 164,
   "id": "7ec5ec86",
   "metadata": {
    "scrolled": true
   },
   "outputs": [
    {
     "data": {
      "text/html": [
       "<div>\n",
       "<style scoped>\n",
       "    .dataframe tbody tr th:only-of-type {\n",
       "        vertical-align: middle;\n",
       "    }\n",
       "\n",
       "    .dataframe tbody tr th {\n",
       "        vertical-align: top;\n",
       "    }\n",
       "\n",
       "    .dataframe thead th {\n",
       "        text-align: right;\n",
       "    }\n",
       "</style>\n",
       "<table border=\"1\" class=\"dataframe\">\n",
       "  <thead>\n",
       "    <tr style=\"text-align: right;\">\n",
       "      <th></th>\n",
       "      <th>age</th>\n",
       "      <th>sex</th>\n",
       "      <th>bmi</th>\n",
       "      <th>children</th>\n",
       "      <th>smoker</th>\n",
       "      <th>region</th>\n",
       "    </tr>\n",
       "  </thead>\n",
       "  <tbody>\n",
       "    <tr>\n",
       "      <th>0</th>\n",
       "      <td>34</td>\n",
       "      <td>1</td>\n",
       "      <td>31.92</td>\n",
       "      <td>1</td>\n",
       "      <td>1</td>\n",
       "      <td>2</td>\n",
       "    </tr>\n",
       "  </tbody>\n",
       "</table>\n",
       "</div>"
      ],
      "text/plain": [
       "   age  sex    bmi  children  smoker  region\n",
       "0   34    1  31.92         1       1       2"
      ]
     },
     "execution_count": 164,
     "metadata": {},
     "output_type": "execute_result"
    }
   ],
   "source": [
    "d = {'age':34,'sex':1,'bmi':31.92,'children':1,'smoker':1,'region':2}\n",
    "df1=pd.DataFrame(d,index=[0])\n",
    "df1"
   ]
  },
  {
   "cell_type": "code",
   "execution_count": 165,
   "id": "39b0c48a",
   "metadata": {
    "scrolled": false
   },
   "outputs": [
    {
     "name": "stdout",
     "output_type": "stream",
     "text": [
      "[60078.41899941]\n"
     ]
    },
    {
     "name": "stderr",
     "output_type": "stream",
     "text": [
      "C:\\Users\\Priya\\anaconda3\\lib\\site-packages\\sklearn\\base.py:443: UserWarning: X has feature names, but GradientBoostingRegressor was fitted without feature names\n",
      "  warnings.warn(\n"
     ]
    }
   ],
   "source": [
    "new_predict=gr.predict(df1)\n",
    "print(new_predict)"
   ]
  },
  {
   "cell_type": "markdown",
   "id": "b228debb",
   "metadata": {},
   "source": [
    "- So the predicted charges for the data \"d\" is __38470.68129873__"
   ]
  },
  {
   "cell_type": "markdown",
   "id": "2b3070ea",
   "metadata": {},
   "source": [
    "# Saving The Model"
   ]
  },
  {
   "cell_type": "code",
   "execution_count": 166,
   "id": "07591249",
   "metadata": {},
   "outputs": [],
   "source": [
    "import pickle"
   ]
  },
  {
   "cell_type": "code",
   "execution_count": 167,
   "id": "86bbe9df",
   "metadata": {},
   "outputs": [],
   "source": [
    "filename = 'trained_model.sav'\n",
    "pickle.dump(gr,open(filename,'wb'))"
   ]
  },
  {
   "cell_type": "code",
   "execution_count": 168,
   "id": "e53cf3dd",
   "metadata": {},
   "outputs": [],
   "source": [
    "# Loading the saved model\n",
    "loaded_model = pickle.load(open('trained_model.sav', 'rb'))"
   ]
  },
  {
   "cell_type": "code",
   "execution_count": 169,
   "id": "8e6ae37e",
   "metadata": {},
   "outputs": [
    {
     "name": "stdout",
     "output_type": "stream",
     "text": [
      "[19466.58439044]\n"
     ]
    }
   ],
   "source": [
    "#Simply Checking the prediction of one row\n",
    "input_data = (33,0,22.705,0,0,3)\n",
    "\n",
    "#changing the input_data to numpy array\n",
    "input_data_as_numpy_array = np.asarray(input_data)\n",
    "\n",
    "#reshape the array as we are predicting for one instance\n",
    "input_data_reshaped = input_data_as_numpy_array.reshape(1,-1)\n",
    "\n",
    "prediction = loaded_model.predict(input_data_reshaped)\n",
    "print(prediction)"
   ]
  },
  {
   "cell_type": "markdown",
   "id": "7e2ca2ae",
   "metadata": {},
   "source": [
    "Actual value is 21984.47061, which is quite close to the predicted value."
   ]
  }
 ],
 "metadata": {
  "kernelspec": {
   "display_name": "Python 3",
   "language": "python",
   "name": "python3"
  },
  "language_info": {
   "codemirror_mode": {
    "name": "ipython",
    "version": 3
   },
   "file_extension": ".py",
   "mimetype": "text/x-python",
   "name": "python",
   "nbconvert_exporter": "python",
   "pygments_lexer": "ipython3",
   "version": "3.8.8"
  }
 },
 "nbformat": 4,
 "nbformat_minor": 5
}
